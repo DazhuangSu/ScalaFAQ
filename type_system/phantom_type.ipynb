{
 "cells": [
  {
   "cell_type": "markdown",
   "metadata": {},
   "source": [
    "## 1 虚类型\n",
    "我们将定义好的没有任何实例的类型称为虚类型。\n",
    "\n",
    "虚类型一般作为一个标志而存在，表明我们不会使用该类型的任何实例，它是用来解决设计问题而存在的。\n",
    "\n",
    "**对于定义必须按照某一特定顺序执行的工作流而言，虚类型作用很大。**"
   ]
  },
  {
   "cell_type": "markdown",
   "metadata": {},
   "source": [
    "下面，我们举一个计算工资的例子。工资计算器必须首先执行“扣税前”的减项操作，然后进行扣税，最后计算器会扣除扣税后的其他减项并算出净收入。"
   ]
  },
  {
   "cell_type": "code",
   "execution_count": 1,
   "metadata": {
    "collapsed": false
   },
   "outputs": [
    {
     "data": {
      "text/plain": [
       "defined \u001b[32mtrait \u001b[36mPreTaxDeductions\u001b[0m\n",
       "defined \u001b[32mtrait \u001b[36mPostTaxDeductions\u001b[0m\n",
       "defined \u001b[32mtrait \u001b[36mFinal\u001b[0m"
      ]
     },
     "metadata": {},
     "output_type": "display_data"
    }
   ],
   "source": [
    "// 定义了密封的特质，起到标志的作用\n",
    "sealed trait PreTaxDeductions\n",
    "sealed trait PostTaxDeductions\n",
    "sealed trait Final"
   ]
  },
  {
   "cell_type": "code",
   "execution_count": 2,
   "metadata": {
    "collapsed": false
   },
   "outputs": [
    {
     "data": {
      "text/plain": [
       "defined \u001b[32mclass \u001b[36mEmployee\u001b[0m"
      ]
     },
     "metadata": {},
     "output_type": "display_data"
    }
   ],
   "source": [
    "// 为了简单起见，此处用Float类型表示金额\n",
    "case class Employee(\n",
    "    name: String,\n",
    "    annualSalary: Float,\n",
    "    taxRate: Float, // 所有税种税率相同\n",
    "    insurancePremiumsPerPayPeriod: Float,\n",
    "    _401kDeductionRate: Float, // 税前扣除项，美国退休储蓄计划扣款\n",
    "    postTaxDeductions: Float)"
   ]
  },
  {
   "cell_type": "markdown",
   "metadata": {},
   "source": [
    "Pay[Step]对象中包含Step参数，它表示了当前执行的步骤"
   ]
  },
  {
   "cell_type": "code",
   "execution_count": 3,
   "metadata": {
    "collapsed": false
   },
   "outputs": [
    {
     "data": {
      "text/plain": [
       "defined \u001b[32mclass \u001b[36mPay\u001b[0m"
      ]
     },
     "metadata": {},
     "output_type": "display_data"
    }
   ],
   "source": [
    "case class Pay[Step](employee: Employee, netPay: Float)"
   ]
  },
  {
   "cell_type": "code",
   "execution_count": 4,
   "metadata": {
    "collapsed": false
   },
   "outputs": [
    {
     "data": {
      "text/plain": [
       "defined \u001b[32mobject \u001b[36mPayroll\u001b[0m"
      ]
     },
     "metadata": {},
     "output_type": "display_data"
    }
   ],
   "source": [
    "object Payroll {\n",
    "    // 每两周发一次薪水，为了简单，认定每年正好52周\n",
    "    \n",
    "    // 调用Payroll类的每一个方法均需要传入Pay[Step]对象\n",
    "    def start(employee: Employee): Pay[PreTaxDeductions] =\n",
    "        Pay[PreTaxDeductions](employee, employee.annualSalary / 26.0F)\n",
    "    \n",
    "    def minusInsurance(pay: Pay[PreTaxDeductions]): Pay[PreTaxDeductions] = {\n",
    "        val newNet = pay.netPay - pay.employee.insurancePremiumsPerPayPeriod\n",
    "        pay copy (netPay = newNet)\n",
    "    }\n",
    "    \n",
    "    def minus401k(pay: Pay[PreTaxDeductions]): Pay[PreTaxDeductions] = {\n",
    "        val newNet = pay.netPay - (pay.employee._401kDeductionRate * pay.netPay)\n",
    "        pay copy (netPay = newNet)\n",
    "    }\n",
    "    \n",
    "    def minusTax(pay: Pay[PreTaxDeductions]): Pay[PostTaxDeductions] = {\n",
    "        val newNet = pay.netPay - (pay.employee.taxRate * pay.netPay)\n",
    "        pay copy (netPay = newNet)\n",
    "    }\n",
    "    \n",
    "    def minusFinalDeductions(pay: Pay[PostTaxDeductions]): Pay[Final] = {\n",
    "        val newNet = pay.netPay - pay.employee.postTaxDeductions\n",
    "        pay copy (netPay = newNet)\n",
    "    }\n",
    "}"
   ]
  },
  {
   "cell_type": "code",
   "execution_count": 5,
   "metadata": {
    "collapsed": false
   },
   "outputs": [
    {
     "data": {
      "text/plain": [
       "defined \u001b[32mobject \u001b[36mCalculatePayroll\u001b[0m"
      ]
     },
     "metadata": {},
     "output_type": "display_data"
    }
   ],
   "source": [
    "object CalculatePayroll {\n",
    "    def main(args: Array[String]) = {\n",
    "        val e = Employee(\"Buck Trends\", 100000.0F, 0.25F, 200F, 0.10F, 0.05F)\n",
    "        val pay1 = Payroll start e\n",
    "        // 401K和保险扣除的顺序可以交换\n",
    "        val pay2 = Payroll minus401k pay1\n",
    "        val pay3 = Payroll minusInsurance pay2\n",
    "        val pay4 = Payroll minusTax pay3\n",
    "        val pay = Payroll minusFinalDeductions pay4\n",
    "        val twoWeekGross = e.annualSalary / 26.0F\n",
    "        val twoWeekNet = pay.netPay\n",
    "        val percent = (twoWeekNet / twoWeekGross) * 100\n",
    "        println(s\"For ${e.name}, the gross vs. net pay every 2 weeks is:\")\n",
    "        println(\n",
    "        f\" $$${twoWeekGross}%.2f vs. $$${twoWeekNet}%.2f or ${percent}%.1f%%\")\n",
    "    }\n",
    "}"
   ]
  },
  {
   "cell_type": "code",
   "execution_count": 6,
   "metadata": {
    "collapsed": false
   },
   "outputs": [
    {
     "name": "stdout",
     "output_type": "stream",
     "text": [
      "For Buck Trends, the gross vs. net pay every 2 weeks is:\n",
      " $3846.15 vs. $2446.10 or 63.6%\n"
     ]
    },
    {
     "data": {
      "text/plain": []
     },
     "metadata": {},
     "output_type": "display_data"
    }
   ],
   "source": [
    "CalculatePayroll.main(Array.empty)"
   ]
  },
  {
   "cell_type": "markdown",
   "metadata": {},
   "source": [
    "## 2 引入管道操作符\n",
    "为了使得多个流程环节之间表达式更加美观简洁，这里引入“管道”操作符。‘"
   ]
  },
  {
   "cell_type": "code",
   "execution_count": 7,
   "metadata": {
    "collapsed": false
   },
   "outputs": [
    {
     "data": {
      "text/plain": [
       "defined \u001b[32mobject \u001b[36mPipeline\u001b[0m"
      ]
     },
     "metadata": {},
     "output_type": "display_data"
    }
   ],
   "source": [
    "object Pipeline {\n",
    "    implicit class toPiped[V](value:V) {\n",
    "        def |>[R] (f : V => R) = f(value)\n",
    "    }\n",
    "}"
   ]
  },
  {
   "cell_type": "code",
   "execution_count": 8,
   "metadata": {
    "collapsed": false
   },
   "outputs": [
    {
     "data": {
      "text/plain": [
       "defined \u001b[32mobject \u001b[36mCalculatePayroll2\u001b[0m"
      ]
     },
     "metadata": {},
     "output_type": "display_data"
    }
   ],
   "source": [
    "object CalculatePayroll2 {\n",
    "    def main(args: Array[String]) = {\n",
    "        import Pipeline._\n",
    "        import Payroll._\n",
    "        val e = Employee(\"Buck Trends\", 100000.0F, 0.25F, 200F, 0.10F, 0.05F)\n",
    "        val pay = start(e) |>\n",
    "        minus401k |>\n",
    "        minusInsurance |>\n",
    "        minusTax |>\n",
    "        minusFinalDeductions\n",
    "        val twoWeekGross = e.annualSalary / 26.0F\n",
    "        val twoWeekNet = pay.netPay\n",
    "        val percent = (twoWeekNet / twoWeekGross) * 100\n",
    "        println(s\"For ${e.name}, the gross vs. net pay every 2 weeks is:\")\n",
    "        println(\n",
    "        f\" $$${twoWeekGross}%.2f vs. $$${twoWeekNet}%.2f or ${percent}%.1f%%\")\n",
    "    }\n",
    "}"
   ]
  },
  {
   "cell_type": "code",
   "execution_count": 9,
   "metadata": {
    "collapsed": false
   },
   "outputs": [
    {
     "name": "stdout",
     "output_type": "stream",
     "text": [
      "For Buck Trends, the gross vs. net pay every 2 weeks is:\n",
      " $3846.15 vs. $2446.10 or 63.6%\n"
     ]
    },
    {
     "data": {
      "text/plain": []
     },
     "metadata": {},
     "output_type": "display_data"
    }
   ],
   "source": [
    "CalculatePayroll2.main(Array.empty)"
   ]
  },
  {
   "cell_type": "markdown",
   "metadata": {},
   "source": [
    "管道操作符实际上只是重排了表达式中各个标记的次序。\n",
    "\n",
    "例如：|>操作符对`pay1 |> Payroll.minus401k`进行转化，转化后的表达式是`Payroll.minus401k(pay1)`。"
   ]
  },
  {
   "cell_type": "markdown",
   "metadata": {},
   "source": [
    "## 3 发射火箭的例子"
   ]
  },
  {
   "cell_type": "code",
   "execution_count": 10,
   "metadata": {
    "collapsed": false
   },
   "outputs": [
    {
     "data": {
      "text/plain": [
       "defined \u001b[32mtrait \u001b[36mNoFuel\u001b[0m\n",
       "defined \u001b[32mtrait \u001b[36mFueled\u001b[0m\n",
       "defined \u001b[32mtrait \u001b[36mNoO2\u001b[0m\n",
       "defined \u001b[32mtrait \u001b[36mHasO2\u001b[0m"
      ]
     },
     "metadata": {},
     "output_type": "display_data"
    }
   ],
   "source": [
    "// 虚类型\n",
    "sealed trait NoFuel\n",
    "sealed trait Fueled\n",
    "sealed trait NoO2\n",
    "sealed trait HasO2"
   ]
  },
  {
   "cell_type": "code",
   "execution_count": 11,
   "metadata": {
    "collapsed": false
   },
   "outputs": [
    {
     "data": {
      "text/plain": [
       "defined \u001b[32mclass \u001b[36mRocket\u001b[0m"
      ]
     },
     "metadata": {},
     "output_type": "display_data"
    }
   ],
   "source": [
    "final case class Rocket[Fuel, O2] ()"
   ]
  },
  {
   "cell_type": "code",
   "execution_count": 12,
   "metadata": {
    "collapsed": false
   },
   "outputs": [
    {
     "data": {
      "text/plain": [
       "defined \u001b[32mfunction \u001b[36mcreateRocket\u001b[0m"
      ]
     },
     "metadata": {},
     "output_type": "display_data"
    }
   ],
   "source": [
    "def createRocket = Rocket[NoFuel, NoO2]()"
   ]
  },
  {
   "cell_type": "code",
   "execution_count": 13,
   "metadata": {
    "collapsed": false
   },
   "outputs": [
    {
     "data": {
      "text/plain": [
       "defined \u001b[32mfunction \u001b[36maddFuel\u001b[0m\n",
       "defined \u001b[32mfunction \u001b[36maddO2\u001b[0m\n",
       "defined \u001b[32mfunction \u001b[36mlaunch\u001b[0m"
      ]
     },
     "metadata": {},
     "output_type": "display_data"
    }
   ],
   "source": [
    "def addFuel[O2](x: Rocket[NoFuel, O2]) = Rocket[Fueled, O2]()\n",
    "\n",
    "def addO2[Fuel](x : Rocket[Fuel, NoO2]) = Rocket[Fuel, HasO2]()\n",
    "\n",
    "def launch(x : Rocket[Fueled, HasO2]) = \"blastoff\""
   ]
  },
  {
   "cell_type": "code",
   "execution_count": 14,
   "metadata": {
    "collapsed": false
   },
   "outputs": [
    {
     "data": {
      "text/plain": [
       "\u001b[36mfueledRocket\u001b[0m: \u001b[32mRocket\u001b[0m[\u001b[32mFueled\u001b[0m, \u001b[32mNoO2\u001b[0m] = \u001b[33mRocket\u001b[0m()"
      ]
     },
     "metadata": {},
     "output_type": "display_data"
    }
   ],
   "source": [
    "val fueledRocket = addFuel(createRocket)"
   ]
  },
  {
   "cell_type": "code",
   "execution_count": 20,
   "metadata": {
    "collapsed": false
   },
   "outputs": [
    {
     "data": {
      "text/plain": [
       "\u001b[36mhasFuelO2Rocket\u001b[0m: \u001b[32mRocket\u001b[0m[\u001b[32mFueled\u001b[0m, \u001b[32mHasO2\u001b[0m] = \u001b[33mRocket\u001b[0m()"
      ]
     },
     "metadata": {},
     "output_type": "display_data"
    }
   ],
   "source": [
    "val hasFuelO2Rocket = addO2(fueledRocket)"
   ]
  },
  {
   "cell_type": "code",
   "execution_count": 21,
   "metadata": {
    "collapsed": false
   },
   "outputs": [
    {
     "data": {
      "text/plain": [
       "\u001b[36mlaunchRocket\u001b[0m: \u001b[32mString\u001b[0m = \u001b[32m\"blastoff\"\u001b[0m"
      ]
     },
     "metadata": {},
     "output_type": "display_data"
    }
   ],
   "source": [
    "val launchRocket = launch(hasFuelO2Rocket)"
   ]
  },
  {
   "cell_type": "markdown",
   "metadata": {},
   "source": [
    "**使用管道操作符**"
   ]
  },
  {
   "cell_type": "code",
   "execution_count": 22,
   "metadata": {
    "collapsed": false
   },
   "outputs": [
    {
     "data": {
      "text/plain": [
       "\u001b[32mimport \u001b[36mPipeline._\u001b[0m"
      ]
     },
     "metadata": {},
     "output_type": "display_data"
    }
   ],
   "source": [
    "import Pipeline._"
   ]
  },
  {
   "cell_type": "code",
   "execution_count": 23,
   "metadata": {
    "collapsed": false
   },
   "outputs": [
    {
     "data": {
      "text/plain": [
       "defined \u001b[32mfunction \u001b[36mlaunchRocketProcess\u001b[0m"
      ]
     },
     "metadata": {},
     "output_type": "display_data"
    }
   ],
   "source": [
    "def launchRocketProcess = createRocket |> addFuel |> addO2 |> launch"
   ]
  },
  {
   "cell_type": "code",
   "execution_count": 24,
   "metadata": {
    "collapsed": false
   },
   "outputs": [
    {
     "data": {
      "text/plain": [
       "\u001b[36mres21\u001b[0m: \u001b[32mString\u001b[0m = \u001b[32m\"blastoff\"\u001b[0m"
      ]
     },
     "metadata": {},
     "output_type": "display_data"
    }
   ],
   "source": [
    "launchRocketProcess // 小火箭发射成功"
   ]
  }
 ],
 "metadata": {
  "kernelspec": {
   "display_name": "Scala 2.11",
   "language": "scala211",
   "name": "scala211"
  },
  "language_info": {
   "codemirror_mode": "text/x-scala",
   "file_extension": ".scala",
   "mimetype": "text/x-scala",
   "name": "scala211",
   "pygments_lexer": "scala",
   "version": "2.11.6"
  }
 },
 "nbformat": 4,
 "nbformat_minor": 0
}

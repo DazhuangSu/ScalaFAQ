{
 "cells": [
  {
   "cell_type": "markdown",
   "metadata": {
    "collapsed": true
   },
   "source": [
    "## 1 隐式转换\n",
    "隐式转换（也称为隐式视图），指把一种类型自动转换到另一种类型，以符合表达式的要求。"
   ]
  },
  {
   "cell_type": "code",
   "execution_count": 1,
   "metadata": {
    "collapsed": false
   },
   "outputs": [
    {
     "data": {
      "text/plain": [
       "defined \u001b[32mfunction \u001b[36mfoo\u001b[0m"
      ]
     },
     "metadata": {},
     "output_type": "display_data"
    }
   ],
   "source": [
    "def foo(msg: String) = println(msg)"
   ]
  },
  {
   "cell_type": "code",
   "execution_count": 2,
   "metadata": {
    "collapsed": false
   },
   "outputs": [
    {
     "ename": "",
     "evalue": "",
     "output_type": "error",
     "traceback": [
      "Compilation Failed",
      "\u001b[31mMain.scala:51: type mismatch;",
      " found   : Int(5)",
      " required: String\r",
      "foo(5)\r",
      "    ^\u001b[0m"
     ]
    }
   ],
   "source": [
    "foo(5)"
   ]
  },
  {
   "cell_type": "markdown",
   "metadata": {},
   "source": [
    "由于类型不匹配，出现编译失败的错误提示。我们需要进行隐式转换来完成调用。"
   ]
  },
  {
   "cell_type": "code",
   "execution_count": 3,
   "metadata": {
    "collapsed": false
   },
   "outputs": [
    {
     "data": {
      "text/plain": [
       "defined \u001b[32mfunction \u001b[36mintToString\u001b[0m"
      ]
     },
     "metadata": {},
     "output_type": "display_data"
    }
   ],
   "source": [
    "implicit def intToString(x: Int) = x.toString"
   ]
  },
  {
   "cell_type": "code",
   "execution_count": 4,
   "metadata": {
    "collapsed": false
   },
   "outputs": [
    {
     "name": "stdout",
     "output_type": "stream",
     "text": [
      "5\r\n"
     ]
    },
    {
     "data": {
      "text/plain": []
     },
     "metadata": {},
     "output_type": "display_data"
    }
   ],
   "source": [
    "foo(5)"
   ]
  },
  {
   "cell_type": "markdown",
   "metadata": {},
   "source": [
    "### 1.1 以->方法为例"
   ]
  },
  {
   "cell_type": "code",
   "execution_count": 5,
   "metadata": {
    "collapsed": false
   },
   "outputs": [
    {
     "data": {
      "text/plain": [
       "\u001b[36mres3\u001b[0m: \u001b[32mMap\u001b[0m[\u001b[32mString\u001b[0m, \u001b[32mInt\u001b[0m] = \u001b[33mMap\u001b[0m(\u001b[32m\"one\"\u001b[0m -> \u001b[32m1\u001b[0m, \u001b[32m\"two\"\u001b[0m -> \u001b[32m2\u001b[0m)"
      ]
     },
     "metadata": {},
     "output_type": "display_data"
    }
   ],
   "source": [
    "Map(\"one\" -> 1, \"two\" -> 2)"
   ]
  },
  {
   "cell_type": "markdown",
   "metadata": {},
   "source": [
    "上面的方法调用了Map.apply方法，而该方法的输入时一组可变数量的pair对象：\n",
    "``` scala\n",
    "def apply[A, B](elems: (A, B)*): Map[A, B]\n",
    "```\n",
    "这里并没有见到->方法的使用，所以其实->方法使用了隐式转换。\n",
    "\n",
    "通过隐式转换，将任意两种类型值之间插入函数->，将表达式a -> b转换为元组(a, b)。"
   ]
  },
  {
   "cell_type": "markdown",
   "metadata": {},
   "source": [
    "如果我们为所有可能作为元组首元素的类型都添加->方法肯定不现实。定义该方法的技巧是使用一个具有->方法的“封装”对象，Scala在Predef对象中定义了该对象："
   ]
  },
  {
   "cell_type": "markdown",
   "metadata": {},
   "source": [
    "``` scala\n",
    "implicit final class ArrowAssoc[A](private val self: A) extends AnyVal {\n",
    "    @inline def -> [B](y: B): Tuple2[A, B] = Tuple2(self, y)\n",
    "    def →[B](y: B): Tuple2[A, B] = ->(y)\n",
    "}\n",
    "```"
   ]
  },
  {
   "cell_type": "markdown",
   "metadata": {},
   "source": [
    "我们可以依照上面的定义来构造Map对象："
   ]
  },
  {
   "cell_type": "code",
   "execution_count": 6,
   "metadata": {
    "collapsed": false
   },
   "outputs": [
    {
     "data": {
      "text/plain": [
       "\u001b[36mres4\u001b[0m: \u001b[32mMap\u001b[0m[\u001b[32mString\u001b[0m, \u001b[32mInt\u001b[0m] = \u001b[33mMap\u001b[0m(\u001b[32m\"one\"\u001b[0m -> \u001b[32m1\u001b[0m, \u001b[32m\"two\"\u001b[0m -> \u001b[32m2\u001b[0m)"
      ]
     },
     "metadata": {},
     "output_type": "display_data"
    }
   ],
   "source": [
    "Map(new ArrowAssoc(\"one\") -> 1, new ArrowAssoc(\"two\") -> 2)"
   ]
  },
  {
   "cell_type": "markdown",
   "metadata": {},
   "source": [
    "由于ArrowAssoc类被声明为implicit类，因此编译器将执行下列逻辑：\n",
    "1. 编译器发现我们试图对String对象执行->方法\n",
    "2. 有String未定义->方法，编译器将检查当前作用域中是否存在定义了该方法的隐式转换\n",
    "3. 编译器发现了ArrowAssoc类\n",
    "4. 编译器将创建ArrowAssoc对象，并向其传入one字符串\n",
    "5. 编译器将解析表达式中的-> 1部分代码，并确认了整个表达式的类型与Map.apply方法的预期类型相吻合，即两者均为pair实例"
   ]
  },
  {
   "cell_type": "markdown",
   "metadata": {},
   "source": [
    "### 1.2 隐式转换的查询规则\n",
    "能够执行隐式转换的只有两类：**构造方法中只接受单一参数的类型或者是只接受单一参数的方法**。\n",
    "\n",
    "从Scala 2.10以后，隐式方法变为Scala的可选特性，在使用时要通过`import scala.language.implicitConversions`开启这一特性，也可以使用全局的编译器选项`-language: implicitConversions`开启该特性。"
   ]
  },
  {
   "cell_type": "markdown",
   "metadata": {},
   "source": [
    "编译器进行查找和使用隐式转换方法时的查询规则：\n",
    "- (1) 假如调用的对象和方法成功通过了组合类型检查，那么类型转换不会被执行\n",
    "- (2) 编译器只会考虑使用implicit关键字的类和方法\n",
    "- (3) 编译器只会考虑当前作用域内的隐式类、隐式方法，以及目标类型的伴生对象中定义的隐式方法\n",
    "- (4) 隐式方法无法串行处理，我们无法通过一个中间类型，使用串行的隐式方法将起始类型转换成目标类型。编译器执行隐式转换时只会考虑那些接受单一类型实例输入且返回目标类型实例的方法\n",
    "- (5) 假如当前适用多条隐式方法，那么将不会执行转换操作。编译器要求有且必须只有一条满足条件的隐式方法，以免产生二义性"
   ]
  },
  {
   "cell_type": "markdown",
   "metadata": {
    "collapsed": true
   },
   "source": [
    "### 1.3 构建字符串插入器的例子\n",
    "Scala会提供一些内置的方法通过插入方式对字符串进行格式化，例如`s\"Hello, ${name}\"`，Scala编译器会查找scala.StringContext的s方法，将其转换成`StringContext(\"Hello, \", \"\").s(name)`。\n",
    "\n",
    "传递给StringContext.apply方法的参数是${...}表达式中抽取出的各个部分，传递给s从参数则是抽取后的表达式。"
   ]
  },
  {
   "cell_type": "markdown",
   "metadata": {},
   "source": [
    "下面，我们通过隐式转换为StringContext添加新的方法，对其进行扩展，定义新的插入器。编写一个将简单JSON字符串转换为scala.util.parsing.JSONObject对象的插入器（该插入器功能简单，只处理扁平的JSON表达式）。"
   ]
  },
  {
   "cell_type": "code",
   "execution_count": 7,
   "metadata": {
    "collapsed": false
   },
   "outputs": [
    {
     "data": {
      "text/plain": []
     },
     "metadata": {},
     "output_type": "display_data"
    }
   ],
   "source": [
    "// Scala 2.11中，json包被放置在一个独立的解析器-组合器库中，这里需要加载jar包\n",
    "load.jar(\"D:\\\\scala\\\\lib\\\\scala-parser-combinators_2.11-1.0.4.jar\")"
   ]
  },
  {
   "cell_type": "code",
   "execution_count": 8,
   "metadata": {
    "collapsed": false
   },
   "outputs": [
    {
     "data": {
      "text/plain": [
       "\u001b[32mimport \u001b[36mscala.util.parsing.json._\u001b[0m\n",
       "defined \u001b[32mobject \u001b[36mInterpolators\u001b[0m"
      ]
     },
     "metadata": {},
     "output_type": "display_data"
    }
   ],
   "source": [
    "import scala.util.parsing.json._\n",
    "\n",
    "object Interpolators {\n",
    "    implicit class jsonForStringContext(val sc: StringContext) { //为了限制隐式类的作用域，必须在对象内定义隐式类\n",
    "        def json(values: Any*): JSONObject = { //该方法输入字符串中嵌套的参数，返回JSONObject对象\n",
    "            val keyRE = \"\"\"^[\\s{,]*(\\S+):\\s*\"\"\".r //抽取key名称的正则表达式\n",
    "            val keys = sc.parts map { \n",
    "                case keyRE(key) => key\n",
    "                case str => str\n",
    "            }\n",
    "            val kvs = keys zip values // 将key和value压缩成键值对集合\n",
    "            JSONObject(kvs.toMap) //使用键值对构成Map对象，并构造JSONObject对象\n",
    "        }\n",
    "    }\n",
    "}"
   ]
  },
  {
   "cell_type": "code",
   "execution_count": 9,
   "metadata": {
    "collapsed": false
   },
   "outputs": [
    {
     "name": "stdout",
     "output_type": "stream",
     "text": [
      "{\"name\" : \"Dean Wampler\", \"book\" : \"Programming Scala, Second Edition\"}\n"
     ]
    },
    {
     "data": {
      "text/plain": [
       "\u001b[32mimport \u001b[36mInterpolators._\u001b[0m\n",
       "\u001b[36mname\u001b[0m: \u001b[32mString\u001b[0m = \u001b[32m\"Dean Wampler\"\u001b[0m\n",
       "\u001b[36mbook\u001b[0m: \u001b[32mString\u001b[0m = \u001b[32m\"Programming Scala, Second Edition\"\u001b[0m\n",
       "\u001b[36mjsonobj\u001b[0m: \u001b[32mJSONObject\u001b[0m = \u001b[33mJSONObject\u001b[0m(\n",
       "  \u001b[33mMap\u001b[0m(\u001b[32m\"name\"\u001b[0m -> Dean Wampler, \u001b[32m\"book\"\u001b[0m -> Programming Scala, Second Edition)\n",
       ")"
      ]
     },
     "metadata": {},
     "output_type": "display_data"
    }
   ],
   "source": [
    "import Interpolators._\n",
    "\n",
    "val name = \"Dean Wampler\"\n",
    "val book = \"Programming Scala, Second Edition\"\n",
    "val jsonobj = json\"{name: $name, book: $book}\"\n",
    "println(jsonobj)"
   ]
  }
 ],
 "metadata": {
  "kernelspec": {
   "display_name": "Scala 2.11",
   "language": "scala211",
   "name": "scala211"
  },
  "language_info": {
   "codemirror_mode": "text/x-scala",
   "file_extension": ".scala",
   "mimetype": "text/x-scala",
   "name": "scala211",
   "pygments_lexer": "scala",
   "version": "2.11.6"
  }
 },
 "nbformat": 4,
 "nbformat_minor": 0
}

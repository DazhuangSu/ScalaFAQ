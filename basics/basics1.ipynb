{
 "cells": [
  {
   "cell_type": "markdown",
   "metadata": {},
   "source": [
    "## 偏函数\n",
    "- 偏函数是它们并不处理所有可能的输入，而只处理那些能与至少一个case语句匹配的输入。\n",
    "- 在偏函数中只能使用case语句，而整个函数必须用花括号包围。如果偏函数被调用，而函数的输入却与所有语句都不匹配，系统就会抛出一个MatchError运行时错误。\n",
    "- 偏函数可以使用链式连接：`pf1 orElse pf2 orElse pf3 ...`。"
   ]
  },
  {
   "cell_type": "code",
   "execution_count": 1,
   "metadata": {
    "collapsed": false
   },
   "outputs": [
    {
     "data": {
      "text/plain": [
       "\u001b[36mpf1\u001b[0m: \u001b[32mPartialFunction\u001b[0m[\u001b[32mAny\u001b[0m, \u001b[32mString\u001b[0m] = <function1>\n",
       "\u001b[36mpf2\u001b[0m: \u001b[32mPartialFunction\u001b[0m[\u001b[32mAny\u001b[0m, \u001b[32mString\u001b[0m] = <function1>\n",
       "\u001b[36mpf\u001b[0m: \u001b[32mPartialFunction\u001b[0m[\u001b[32mAny\u001b[0m, \u001b[32mString\u001b[0m] = <function1>\n",
       "defined \u001b[32mfunction \u001b[36mtryPF\u001b[0m\n",
       "defined \u001b[32mfunction \u001b[36md\u001b[0m"
      ]
     },
     "metadata": {},
     "output_type": "display_data"
    }
   ],
   "source": [
    "val pf1: PartialFunction[Any, String] = { case s: String => \"YES\" }\n",
    "val pf2: PartialFunction[Any, String] = { case d: Double => \"YES\" }\n",
    "val pf = pf1 orElse pf2\n",
    "\n",
    "def tryPF(x: Any, f: PartialFunction[Any, String]): String = {\n",
    "    try {\n",
    "        f(x).toString\n",
    "    }\n",
    "    catch {\n",
    "        case _: MatchError => \"ERROR!\"\n",
    "    }\n",
    "}\n",
    "\n",
    "def d(x: Any, f: PartialFunction[Any, String]) = \n",
    "    f.isDefinedAt(x).toString"
   ]
  },
  {
   "cell_type": "code",
   "execution_count": 2,
   "metadata": {
    "collapsed": false
   },
   "outputs": [
    {
     "name": "stdout",
     "output_type": "stream",
     "text": [
      "      |  pf1 - String  |  pf2 - Double  |  pf - All"
     ]
    },
    {
     "data": {
      "text/plain": []
     },
     "metadata": {},
     "output_type": "display_data"
    },
    {
     "name": "stdout",
     "output_type": "stream",
     "text": [
      "\r\n",
      "  x   | def?  | pf1(x) | def?  | pf2(x) | def? | pf(x)\r\n",
      "++++++++++++++++++++++++++++++++++++++++++++++++++++++\r\n",
      "str   | true  | YES    | false | ERROR! | true  | YES   \n",
      "3.14  | false | ERROR! | true  | YES    | true  | YES   \n",
      "10    | false | ERROR! | false | ERROR! | false | ERROR!\n"
     ]
    }
   ],
   "source": [
    "println(\"      |  pf1 - String  |  pf2 - Double  |  pf - All\")\n",
    "println(\"  x   | def?  | pf1(x) | def?  | pf2(x) | def? | pf(x)\")\n",
    "println(\"++++++++++++++++++++++++++++++++++++++++++++++++++++++\")\n",
    "List(\"str\", 3.14, 10) foreach { x =>\n",
    "    printf(\"%-5s | %-5s | %-6s | %-5s | %-6s | %-5s | %-6s\\n\", x.toString,\n",
    "          d(x, pf1), tryPF(x, pf1), d(x, pf2), tryPF(x, pf2), d(x, pf), tryPF(x, pf))\n",
    "}"
   ]
  },
  {
   "cell_type": "markdown",
   "metadata": {},
   "source": [
    "## Future简介\n",
    "scala.concurrent.Future是scala提供的并发工具，但任务封装在Future中执行时，该任务是异步的"
   ]
  },
  {
   "cell_type": "code",
   "execution_count": 3,
   "metadata": {
    "collapsed": false
   },
   "outputs": [
    {
     "data": {
      "text/plain": [
       "\u001b[32mimport \u001b[36mscala.concurrent.Future\u001b[0m\n",
       "\u001b[32mimport \u001b[36mscala.concurrent.ExecutionContext.Implicits.global\u001b[0m"
      ]
     },
     "metadata": {},
     "output_type": "display_data"
    }
   ],
   "source": [
    "import scala.concurrent.Future\n",
    "import scala.concurrent.ExecutionContext.Implicits.global"
   ]
  },
  {
   "cell_type": "code",
   "execution_count": 4,
   "metadata": {
    "collapsed": false
   },
   "outputs": [
    {
     "name": "stdout",
     "output_type": "stream",
     "text": [
      "Success! returned: 2\n",
      "Success! returned: 3\n",
      "Success! returned: 1\n",
      "Success! returned: 4\n",
      "Done\n"
     ]
    },
    {
     "data": {
      "text/plain": [
       "defined \u001b[32mfunction \u001b[36msleep\u001b[0m\n",
       "defined \u001b[32mfunction \u001b[36mdoWork\u001b[0m"
      ]
     },
     "metadata": {},
     "output_type": "display_data"
    }
   ],
   "source": [
    "def sleep(millis: Long) = Thread.sleep(millis)\n",
    "\n",
    "def doWork(index: Int) = {\n",
    "    sleep((math.random * 1000).toLong)\n",
    "    index\n",
    "}\n",
    "\n",
    "(1 to 5) foreach { index =>\n",
    "    val future = Future {\n",
    "        doWork(index)\n",
    "    }\n",
    "                  \n",
    "    future onSuccess {\n",
    "        case answer: Int => println(s\"Success! returned: $answer\")\n",
    "    }\n",
    "    future onFailure {\n",
    "        case th: Throwable => println(s\"FAILURE! returned: $th\")\n",
    "    }\n",
    "}\n",
    "\n",
    "sleep(1000)\n",
    "println(\"Done\")"
   ]
  },
  {
   "cell_type": "markdown",
   "metadata": {},
   "source": [
    "- 调用Future单例对象的工厂方法，传入一个匿名函数，表示需要做的工作\n",
    "- Future.apply返回新的Future对象，控制权还给循环，该对象在另一个线程中执行doWork\n",
    "- onSuccess注册一个回调函数，该回调函数是一个偏函数，当future成功执行完毕后，将执行该回调"
   ]
  },
  {
   "cell_type": "markdown",
   "metadata": {},
   "source": [
    "### **Future API的配置隐含参数**\n",
    "上面代码中调用的三个方法中第二个参数列表具有隐含的ExecutionContext参数\n",
    "``` scala\n",
    "//Future.apply\n",
    "apply[T](body: => T)(implicit executor: ExecutionContext): Future[T]\n",
    "\n",
    "def onSuccess[U](func: (Try[T]) => U)(implicit executor: ExecutionContext): Unit\n",
    "def onFailure[U](callback: PartialFunction[Throwable, U])(implicit executor: ExecutionContext): Unit\n",
    "```\n",
    "Future通过ExecutionContext来配置并发操作的执行，默认情况使用Java的ForkJoinPool来设置管理Java线程池。"
   ]
  },
  {
   "cell_type": "markdown",
   "metadata": {},
   "source": [
    "## 斐波那契数列使用的技巧"
   ]
  },
  {
   "cell_type": "code",
   "execution_count": 5,
   "metadata": {
    "collapsed": false
   },
   "outputs": [
    {
     "name": "stdout",
     "output_type": "stream",
     "text": [
      "1\n",
      "1\n",
      "2\n",
      "6\n",
      "24\n",
      "120\n"
     ]
    },
    {
     "data": {
      "text/plain": [
       "\u001b[32mimport \u001b[36mscala.annotation.tailrec\u001b[0m\n",
       "defined \u001b[32mfunction \u001b[36mfactorial\u001b[0m"
      ]
     },
     "metadata": {},
     "output_type": "display_data"
    }
   ],
   "source": [
    "import scala.annotation.tailrec\n",
    "\n",
    "def factorial(i: Int): Long = {\n",
    "    @tailrec\n",
    "    def fact(i: Int, accumulator: Int): Long = {\n",
    "        if (i <= 1) accumulator\n",
    "        else fact(i-1, i*accumulator)\n",
    "    }\n",
    "    \n",
    "    fact(i, 1)\n",
    "}\n",
    "\n",
    "(0 to 5) foreach (i => println(factorial(i)))"
   ]
  },
  {
   "cell_type": "markdown",
   "metadata": {},
   "source": [
    "- factorial使用了嵌套函数fact作为辅助函数\n",
    "- 由于阶乘计算结果增长快，使用Long作为返回值类型\n",
    "- 使用tailrec关键字让编译器检查自己是否对尾递归执行了优化，避免栈空间崩溃"
   ]
  },
  {
   "cell_type": "code",
   "execution_count": 6,
   "metadata": {
    "collapsed": false
   },
   "outputs": [
    {
     "ename": "",
     "evalue": "",
     "output_type": "error",
     "traceback": [
      "Compilation Failed",
      "\u001b[31mMain.scala:81: could not optimize @tailrec annotated method f: it is neither private nor final so can be overridden\r",
      "def f(i: Int): Long = {\r",
      "    ^\u001b[0m"
     ]
    }
   ],
   "source": [
    "// 不是尾递归的情况，编译器将抛出错误\n",
    "@tailrec\n",
    "def f(i: Int): Long = {\n",
    "    if(i <= 1) 1L\n",
    "    else f(i-2) + f(i-1)\n",
    "}"
   ]
  },
  {
   "cell_type": "markdown",
   "metadata": {},
   "source": [
    "## 类型推断"
   ]
  },
  {
   "cell_type": "markdown",
   "metadata": {
    "collapsed": true
   },
   "source": [
    "显式类型注解的场景：\n",
    "- 声明变量却没有初始化的情况（抽象声明）\n",
    "- 方法参数\n",
    "- 方法返回值类型：\n",
    "    - 方法中明确使用了return\n",
    "    - 递归方法\n",
    "    - 多个方法重载，其中一个方法调用了另一个重载方法，调用者需要显示类型注解\n",
    "    - Scala推断出的类型比你期望的类型更为宽泛"
   ]
  },
  {
   "cell_type": "markdown",
   "metadata": {},
   "source": [
    "## Option、Some和None，避免使用null"
   ]
  },
  {
   "cell_type": "markdown",
   "metadata": {
    "collapsed": true
   },
   "source": [
    "Option允许我们通过Some和None显式表示“有值”或“没有值”，通过类型检查避免空指针异常（null）的情况。"
   ]
  },
  {
   "cell_type": "code",
   "execution_count": 7,
   "metadata": {
    "collapsed": false
   },
   "outputs": [
    {
     "data": {
      "text/plain": [
       "\u001b[36mstateCapitals\u001b[0m: \u001b[32mMap\u001b[0m[\u001b[32mString\u001b[0m, \u001b[32mString\u001b[0m] = \u001b[33mMap\u001b[0m(\n",
       "  \u001b[32m\"Alabama\"\u001b[0m -> \u001b[32m\"Montgomery\"\u001b[0m,\n",
       "  \u001b[32m\"Alaska\"\u001b[0m -> \u001b[32m\"Juneau\"\u001b[0m,\n",
       "  \u001b[32m\"Wyoming\"\u001b[0m -> \u001b[32m\"Cheyenne\"\u001b[0m\n",
       ")"
      ]
     },
     "metadata": {},
     "output_type": "display_data"
    }
   ],
   "source": [
    "val stateCapitals = Map(\n",
    "    \"Alabama\" -> \"Montgomery\",\n",
    "    \"Alaska\" -> \"Juneau\",\n",
    "    \"Wyoming\" -> \"Cheyenne\"\n",
    ")"
   ]
  },
  {
   "cell_type": "code",
   "execution_count": 8,
   "metadata": {
    "collapsed": false
   },
   "outputs": [
    {
     "name": "stdout",
     "output_type": "stream",
     "text": [
      "Get the capitals wrapped in Options:\n",
      "Alabama: Some(Montgomery)\n",
      "Wyoming: Some(Cheyenne)\n",
      "Unknown: None\n",
      "Get the capitals themselves out of Options:\n",
      "Alabama: Montgomery\n",
      "Wyoming: Cheyenne\n",
      "Unknown: Oops!\n"
     ]
    },
    {
     "data": {
      "text/plain": []
     },
     "metadata": {},
     "output_type": "display_data"
    }
   ],
   "source": [
    "println(\"Get the capitals wrapped in Options:\")\n",
    "println(\"Alabama: \" + stateCapitals.get(\"Alabama\"))\n",
    "println(\"Wyoming: \" + stateCapitals.get(\"Wyoming\"))\n",
    "println(\"Unknown: \" + stateCapitals .get(\"Unknown\"))\n",
    "\n",
    "println(\"Get the capitals themselves out of Options:\")\n",
    "println(\"Alabama: \" + stateCapitals.get(\"Alabama\").get)\n",
    "println(\"Wyoming: \" + stateCapitals.get(\"Wyoming\").getOrElse(\"Oops!\"))\n",
    "println(\"Unknown: \" + stateCapitals .get(\"Unknown\").getOrElse(\"Oops!\"))"
   ]
  },
  {
   "cell_type": "markdown",
   "metadata": {},
   "source": [
    "Map.get方法返回了Option[T]，对于给定的key，当对应的值可能并不存在的情况，Option已经包含在方法返回的类型中了。\n",
    "\n",
    "Option有get或getOrElse方法，其中None.get会抛出一个NoSuchElementException异常。更安全的方法是使用getOrElse，其参数起到默认值的作用，避免潜在的异常。"
   ]
  },
  {
   "cell_type": "markdown",
   "metadata": {},
   "source": [
    "## 参数化类型\n",
    "Scala使用方括号表示参数化类型，并通过+、-号表示协类型和逆类型。"
   ]
  },
  {
   "cell_type": "code",
   "execution_count": 9,
   "metadata": {
    "collapsed": false
   },
   "outputs": [
    {
     "data": {
      "text/plain": [
       "\u001b[32mimport \u001b[36mjava.io._\u001b[0m\n",
       "defined \u001b[32mclass \u001b[36mBulkReader\u001b[0m\n",
       "defined \u001b[32mclass \u001b[36mStringBulkReader\u001b[0m\n",
       "defined \u001b[32mclass \u001b[36mFileBulkReader\u001b[0m"
      ]
     },
     "metadata": {},
     "output_type": "display_data"
    }
   ],
   "source": [
    "import java.io._\n",
    "\n",
    "abstract class BulkReader[In] {\n",
    "    val source: In\n",
    "    def read: String\n",
    "}\n",
    "\n",
    "class StringBulkReader(val source: String) extends BulkReader[String] {\n",
    "    def read: String = source\n",
    "}\n",
    "\n",
    "class FileBulkReader(val source: File) extends BulkReader[File] {\n",
    "    def read: String = {\n",
    "        val in = new BufferedInputStream(new FileInputStream(source))\n",
    "        val numBytes = in.available()\n",
    "        val bytes = new Array[Byte](numBytes)\n",
    "        in.read(bytes, 0, numBytes)\n",
    "        new String(bytes)\n",
    "    }\n",
    "}"
   ]
  },
  {
   "cell_type": "code",
   "execution_count": 10,
   "metadata": {
    "collapsed": false
   },
   "outputs": [
    {
     "name": "stdout",
     "output_type": "stream",
     "text": [
      "Hello Scala!\n",
      "this is a file for read method of FileBulkReader class\n",
      "do some work\n"
     ]
    },
    {
     "data": {
      "text/plain": []
     },
     "metadata": {},
     "output_type": "display_data"
    }
   ],
   "source": [
    "println(new StringBulkReader(\"Hello Scala!\").read)\n",
    "println(new FileBulkReader(new File(\"fileBulkReaderTestFile.txt\")).read)"
   ]
  }
 ],
 "metadata": {
  "kernelspec": {
   "display_name": "Scala 2.11",
   "language": "scala211",
   "name": "scala211"
  },
  "language_info": {
   "codemirror_mode": "text/x-scala",
   "file_extension": ".scala",
   "mimetype": "text/x-scala",
   "name": "scala211",
   "pygments_lexer": "scala",
   "version": "2.11.6"
  }
 },
 "nbformat": 4,
 "nbformat_minor": 0
}

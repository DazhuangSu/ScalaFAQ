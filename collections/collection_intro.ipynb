{
 "cells": [
  {
   "cell_type": "markdown",
   "metadata": {},
   "source": [
    "# Scala集合库\n",
    "Scala集合库提供了大量不同的存储和操作数据的方法。其中可以分为三类：\n",
    "- 不可变和可变集合\n",
    "- 即时和延迟计算集合\n",
    "- 线性和并行计算集合\n",
    "\n",
    "这六类中的每一种都很有用。有时候并行执行可以极大提高吞吐量，也有时候延迟计算可以提高性能。"
   ]
  },
  {
   "cell_type": "code",
   "execution_count": null,
   "metadata": {
    "collapsed": true
   },
   "outputs": [],
   "source": []
  }
 ],
 "metadata": {
  "kernelspec": {
   "display_name": "Scala 2.11",
   "language": "scala211",
   "name": "scala211"
  },
  "language_info": {
   "codemirror_mode": "text/x-scala",
   "file_extension": ".scala",
   "mimetype": "text/x-scala",
   "name": "scala211",
   "pygments_lexer": "scala",
   "version": "2.11.6"
  }
 },
 "nbformat": 4,
 "nbformat_minor": 0
}

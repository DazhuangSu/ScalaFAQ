{
 "cells": [
  {
   "cell_type": "markdown",
   "metadata": {},
   "source": [
    "## 1 函数式编程\n",
    "函数式编程主要可以为当前面临的三大挑战提供解决方案：\n",
    "- 满足并发的普遍需求。有了并发，我们可以对应用进行水平扩展，并提供其对抗服务器故障的能力。\n",
    "- 满足编写数据导向程序的要求。有效处理海量数据的技术。\n",
    "- 满足编写无bug程序的要求。函数式编程从数学角度为我们提供了新的工具，使我们想无bug的程序又迈进了一步。\n",
    "\n",
    "使用不可变值、被视为一等公民的函数、无副作用的函数、高阶函数以及函数集合，有助于编写出简洁、强大而又正确的代码。"
   ]
  },
  {
   "cell_type": "markdown",
   "metadata": {},
   "source": [
    "### 1.1 纯函数\n",
    "在函数内部，没有任何全局状态被修改的函数，称为无副作用函数，即纯函数。\n",
    "纯函数极大地简化了函数的分析、测试和调试。你可以不考虑调用该函数的上下文信息，否则的话，就要受该上下文中调用的任何函数的影响。\n",
    "\n",
    "纯函数带来了两点好处：\n",
    "- 你可以在任何地方调用函数，并确信其行为与上下文无关，每次的行为都能够确保相同。由于没有任何全局对象被修改，对函数的并发调用也是安全可靠的，不需要任何线程安全的编写技巧。\n",
    "- 可以用表达式所计算出的值替换表达式本身。\n",
    "\n",
    "当一个函数采用其他函数作为变量或返回值时，它被称为高阶函数。在数学中，微积分中有两个高阶函数的例子——微分和积分。我们将一个表达式作为函数传给“微分函数”，然后微分函数返回一个新函数，即原函数的导函数。"
   ]
  },
  {
   "cell_type": "markdown",
   "metadata": {},
   "source": [
    "### 1.2 不可变变量\n",
    "在函数式编程中，变量是不可变的。这是数学原理带来的一个结果。\n",
    "\n",
    "而一般的，使用变量可以保存对象的状态并进行修改，但不可变量不意味着函数式编程完全没有状态。**我们可以用新的对象或新开的栈空间来表示状态的改变，即调用函数，并返回你期望的值。**"
   ]
  },
  {
   "cell_type": "code",
   "execution_count": 1,
   "metadata": {
    "collapsed": false
   },
   "outputs": [
    {
     "name": "stdout",
     "output_type": "stream",
     "text": [
      "1\n",
      "1\n",
      "2\n",
      "6\n",
      "24\n",
      "120\n"
     ]
    },
    {
     "data": {
      "text/plain": [
       "defined \u001b[32mfunction \u001b[36mfactorial\u001b[0m"
      ]
     },
     "metadata": {},
     "output_type": "display_data"
    }
   ],
   "source": [
    "def factorial(i: Int): Long = {\n",
    "    def fact(i: Int, accumulator: Int): Long = {\n",
    "        if (i <= 1) accumulator\n",
    "        else fact(i - 1, i * accumulator)\n",
    "    }\n",
    "    fact(i, 1)\n",
    "} \n",
    "\n",
    "(0 to 5) foreach ( i => println(factorial(i)) )"
   ]
  },
  {
   "cell_type": "markdown",
   "metadata": {},
   "source": [
    "我们用递归计算阶乘，对计算结果的每次更新被压进了栈上，而不是直接修改栈中的值。"
   ]
  },
  {
   "cell_type": "markdown",
   "metadata": {},
   "source": [
    "值不可变性带来的好处：\n",
    "- 对编写可扩展的并发程序有巨大好处。引用透明的函数和值不可变性的结合，使得函数式编程成为了编写并发软件应用的更好选择。\n",
    "- 致命的bug大多来源于可变状态，尤其是那种部署到生产环境之前很难测试出来的bug，纯函数与值不可变性极大地降低了bug出现的概率。\n",
    "- 有了值的不可变性，我们可以将对象内部的内部数据设为可对外公开访问，而不必封装在对象中再提供特定的访问方法而担心数据的值被修改的问题。\n",
    "- 函数式编程通过共享对象中的未修改部分使得复制的开销最小化，这样不可变性的程序反而比状态可变的程序更快。"
   ]
  },
  {
   "cell_type": "markdown",
   "metadata": {},
   "source": [
    "## 2 匿名函数、Lambda和闭包\n"
   ]
  }
 ],
 "metadata": {
  "kernelspec": {
   "display_name": "Scala 2.11",
   "language": "scala211",
   "name": "scala211"
  },
  "language_info": {
   "codemirror_mode": "text/x-scala",
   "file_extension": ".scala",
   "mimetype": "text/x-scala",
   "name": "scala211",
   "pygments_lexer": "scala",
   "version": "2.11.6"
  }
 },
 "nbformat": 4,
 "nbformat_minor": 0
}

{
 "cells": [
  {
   "cell_type": "markdown",
   "metadata": {},
   "source": [
    "## 1 函数式编程\n",
    "函数式编程主要可以为当前面临的三大挑战提供解决方案：\n",
    "- 满足并发的普遍需求。有了并发，我们可以对应用进行水平扩展，并提供其对抗服务器故障的能力。\n",
    "- 满足编写数据导向程序的要求。有效处理海量数据的技术。\n",
    "- 满足编写无bug程序的要求。函数式编程从数学角度为我们提供了新的工具，使我们想无bug的程序又迈进了一步。\n",
    "\n",
    "使用不可变值、被视为一等公民的函数、无副作用的函数、高阶函数以及函数集合，有助于编写出简洁、强大而又正确的代码。"
   ]
  },
  {
   "cell_type": "markdown",
   "metadata": {},
   "source": [
    "### 1.1 纯函数\n",
    "在函数内部，没有任何全局状态被修改的函数，称为无副作用函数，即纯函数。\n",
    "纯函数极大地简化了函数的分析、测试和调试。你可以不考虑调用该函数的上下文信息，否则的话，就要受该上下文中调用的任何函数的影响。\n",
    "\n",
    "纯函数带来了两点好处：\n",
    "- 你可以在任何地方调用函数，并确信其行为与上下文无关，每次的行为都能够确保相同。由于没有任何全局对象被修改，对函数的并发调用也是安全可靠的，不需要任何线程安全的编写技巧。\n",
    "- 可以用表达式所计算出的值替换表达式本身。\n",
    "\n",
    "当一个函数采用其他函数作为变量或返回值时，它被称为高阶函数。在数学中，微积分中有两个高阶函数的例子——微分和积分。我们将一个表达式作为函数传给“微分函数”，然后微分函数返回一个新函数，即原函数的导函数。"
   ]
  },
  {
   "cell_type": "markdown",
   "metadata": {},
   "source": [
    "### 1.2 不可变变量\n",
    "在函数式编程中，变量是不可变的。这是数学原理带来的一个结果。\n",
    "\n",
    "而一般的，使用变量可以保存对象的状态并进行修改，但不可变量不意味着函数式编程完全没有状态。**我们可以用新的对象或新开的栈空间来表示状态的改变，即调用函数，并返回你期望的值。**"
   ]
  },
  {
   "cell_type": "code",
   "execution_count": 1,
   "metadata": {
    "collapsed": false
   },
   "outputs": [
    {
     "name": "stdout",
     "output_type": "stream",
     "text": [
      "1\n",
      "1\n",
      "2\n",
      "6\n",
      "24\n",
      "120\n"
     ]
    },
    {
     "data": {
      "text/plain": [
       "defined \u001b[32mfunction \u001b[36mfactorial\u001b[0m"
      ]
     },
     "metadata": {},
     "output_type": "display_data"
    }
   ],
   "source": [
    "def factorial(i: Int): Long = {\n",
    "    def fact(i: Int, accumulator: Int): Long = {\n",
    "        if (i <= 1) accumulator\n",
    "        else fact(i - 1, i * accumulator)\n",
    "    }\n",
    "    fact(i, 1)\n",
    "} \n",
    "\n",
    "(0 to 5) foreach ( i => println(factorial(i)) )"
   ]
  },
  {
   "cell_type": "markdown",
   "metadata": {},
   "source": [
    "我们用递归计算阶乘，对计算结果的每次更新被压进了栈上，而不是直接修改栈中的值。"
   ]
  },
  {
   "cell_type": "markdown",
   "metadata": {},
   "source": [
    "值不可变性带来的好处：\n",
    "- 对编写可扩展的并发程序有巨大好处。引用透明的函数和值不可变性的结合，使得函数式编程成为了编写并发软件应用的更好选择。\n",
    "- 致命的bug大多来源于可变状态，尤其是那种部署到生产环境之前很难测试出来的bug，纯函数与值不可变性极大地降低了bug出现的概率。\n",
    "- 有了值的不可变性，我们可以将对象内部的内部数据设为可对外公开访问，而不必封装在对象中再提供特定的访问方法而担心数据的值被修改的问题。\n",
    "- 函数式编程通过共享对象中的未修改部分使得复制的开销最小化，这样不可变性的程序反而比状态可变的程序更快。"
   ]
  },
  {
   "cell_type": "markdown",
   "metadata": {},
   "source": [
    "## 2 匿名函数、Lambda和闭包\n",
    "- 函数：一种具有名或匿名的操作。其代码直接被调用时才执行。在函数的定义中，可能有也可能没有引用外部的未绑定的变量\n",
    "- lambda：一种匿名函数。在她的定义中，可能有也可能没有引用外部的未绑定变量\n",
    "- 闭包：在定义中包含了自由变量，函数中包含了环境信息，以绑定其引用的自由变量"
   ]
  },
  {
   "cell_type": "code",
   "execution_count": 2,
   "metadata": {
    "collapsed": false
   },
   "outputs": [
    {
     "data": {
      "text/plain": [
       "\u001b[36mfactor\u001b[0m: \u001b[32mInt\u001b[0m = \u001b[32m2\u001b[0m\n",
       "\u001b[36mmultiplier\u001b[0m: \u001b[32mInt\u001b[0m => \u001b[32mInt\u001b[0m = <function1>"
      ]
     },
     "metadata": {},
     "output_type": "display_data"
    }
   ],
   "source": [
    "var factor = 2\n",
    "val multiplier = (i: Int) => i * factor"
   ]
  },
  {
   "cell_type": "code",
   "execution_count": 3,
   "metadata": {
    "collapsed": false
   },
   "outputs": [
    {
     "data": {
      "text/plain": [
       "\u001b[36mres2\u001b[0m: \u001b[32mInt\u001b[0m = \u001b[32m122880\u001b[0m"
      ]
     },
     "metadata": {},
     "output_type": "display_data"
    }
   ],
   "source": [
    "(1 to 10) filter (_ % 2 == 0) map multiplier reduce (_ * _)"
   ]
  },
  {
   "cell_type": "code",
   "execution_count": 4,
   "metadata": {
    "collapsed": false
   },
   "outputs": [
    {
     "data": {
      "text/plain": [
       "\u001b[36mres3_1\u001b[0m: \u001b[32mInt\u001b[0m = \u001b[32m933120\u001b[0m"
      ]
     },
     "metadata": {},
     "output_type": "display_data"
    }
   ],
   "source": [
    "factor = 3\n",
    "(1 to 10) filter (_ % 2 == 0) map multiplier reduce (_ * _)"
   ]
  },
  {
   "cell_type": "markdown",
   "metadata": {},
   "source": [
    "解释一下上面的代码：\n",
    "- factor变量是一个累乘因子，它决定了multiplier的行为\n",
    "- multiplier是一个不可变的函数字面量，其行为随着factor改变而改变\n",
    "- factor是一个自由变量，是当前作用域中某个值的引用。编译器创建了一个闭包，用于包含multiplier与它引用的外部变量的上下文信息，从而绑定了外部变量本身\n",
    "- multiplier引用了factor，每次调用时都重新读取factor的值。如果函数没有外部引用，那它就只是包含了自身，不需要外部上下文信息\n",
    "- 如果将multiplier传递给其他作用域（如另一个方法）中，自由变量factor的有效性会一直伴随着multiplier函数"
   ]
  },
  {
   "cell_type": "markdown",
   "metadata": {},
   "source": [
    "## 3 递归与尾递归优化\n",
    "在函数式编程中，递归是实现“循环”的唯一方法，因为你无法修改循环变量。\n",
    "\n",
    "阶乘就是一个很好的例子。递归是表达函数的最常见方式。然而，它有两个缺点：**仿佛调用函数带来了开销；栈溢出的风险**。\n",
    "\n",
    "### 3.1 尾递归\n",
    "编译器可以将尾递归优化成循环，避免了一般递归函数带来的风险。**在尾递归中，函数可以调用自身，并且该调用时函数的最后一个操作。**尾递归能把函数优化为循环，可以消除潜在的栈溢出风险，同时降低函数调用开销而提升效率。Scala使用@tailrec注解对尾递归进行检查。"
   ]
  },
  {
   "cell_type": "code",
   "execution_count": 5,
   "metadata": {
    "collapsed": false
   },
   "outputs": [
    {
     "data": {
      "text/plain": [
       "\u001b[32mimport \u001b[36mscala.annotation.tailrec\u001b[0m"
      ]
     },
     "metadata": {},
     "output_type": "display_data"
    }
   ],
   "source": [
    "import scala.annotation.tailrec"
   ]
  },
  {
   "cell_type": "code",
   "execution_count": 6,
   "metadata": {
    "collapsed": false
   },
   "outputs": [
    {
     "data": {
      "text/plain": [
       "defined \u001b[32mfunction \u001b[36mfactorial\u001b[0m"
      ]
     },
     "metadata": {},
     "output_type": "display_data"
    }
   ],
   "source": [
    "def factorial(i: BigInt): BigInt = {\n",
    "    @tailrec\n",
    "    def fact(i: BigInt, accumulator: BigInt): BigInt =\n",
    "        if (i == 1) accumulator\n",
    "        else fact(i-1, i*accumulator)\n",
    "    \n",
    "    fact(i, 1)\n",
    "}"
   ]
  },
  {
   "cell_type": "markdown",
   "metadata": {},
   "source": [
    "从上面的代码中看出，定义一个嵌套的尾递归函数，将累积值作为参数，是将很多普通递归算法转为尾递归的实用技巧。"
   ]
  },
  {
   "cell_type": "code",
   "execution_count": 7,
   "metadata": {
    "collapsed": false
   },
   "outputs": [
    {
     "name": "stdout",
     "output_type": "stream",
     "text": [
      "1:\t1\n",
      "2:\t2\n",
      "3:\t6\n",
      "4:\t24\n",
      "5:\t120\n",
      "6:\t720\n",
      "7:\t5040\n",
      "8:\t40320\n",
      "9:\t362880\n",
      "10:\t3628800\n"
     ]
    },
    {
     "data": {
      "text/plain": []
     },
     "metadata": {},
     "output_type": "display_data"
    }
   ],
   "source": [
    "for (i <- 1 to 10)\n",
    "    println(s\"$i:\\t${factorial(i)}\")"
   ]
  },
  {
   "cell_type": "code",
   "execution_count": 8,
   "metadata": {
    "collapsed": false
   },
   "outputs": [
    {
     "data": {
      "text/plain": [
       "\u001b[36mres7\u001b[0m: \u001b[32mBigInt\u001b[0m = 284625968091705451890641321211986889014805140170279923079417999427441134000376444377299078675778477581588406214231752883004233994015351873905242116138271617481982419982759241828925978789812425312059465996259867065601615720360323979263287367170557419759620994797203461536981198970926112775004841988454104755446424421365733030767036288258035489674611170973695786036701910715127305872810411586405612811653853259684258259955846881464304255898366493170592517172042765974074461334000541940524623034368691540594040662278282483715120383221786446271838229238996389928272218797024593876938030946273322925705554596900278752822425443480211275590191694254290289169072190970836905398737474524833728995218023632827412170402680867692104515558405671725553720158521328290342799898184493136106403814893044996215999993596708929801903369984844046654192362584249471631789611920412331082686510713545168455409360330096072103469443779823494307806260694223026818852275920570292308431261884976065607425862794488271559568315334405344254466484168945804257094616736131876052349822863264529215294234798706033442907371586884991789325806914831688542519560061723726363239744207869246429560123062887201226529529640915083013366309827338063539729015065818225742954758943997651138655412081257886837042392087644847615690012648892715907063064096616280387840444851916437908071861123706221334154150659918438759610239267132765469861636577066264386380298480519527695361952592409309086144719073907685857559347869817207343720931048254756285677776\u001b[33m...\u001b[0m"
      ]
     },
     "metadata": {},
     "output_type": "display_data"
    }
   ],
   "source": [
    "// 调用大数10000，尾递归优化版本可以成功运行，而递归版本会在普通电脑上出现栈溢出\n",
    "factorial(10000)"
   ]
  },
  {
   "cell_type": "markdown",
   "metadata": {},
   "source": [
    "### 3.2 尾递归的trampoline优化\n",
    "考虑一种递归情况：函数A不调用自身，而是调用另一个函数B；而函数B又调用A，如此反复循环。trampoline可以将这种反复来回调用的函数转化为循环。\n",
    "\n",
    "所以，trampoline是一种无需递归就可以处理来回调用的计算的数据结构。Scala库中有尾递归对象来达到这种目的。"
   ]
  },
  {
   "cell_type": "code",
   "execution_count": 9,
   "metadata": {
    "collapsed": false
   },
   "outputs": [
    {
     "data": {
      "text/plain": [
       "\u001b[32mimport \u001b[36mscala.util.control.TailCalls._\u001b[0m"
      ]
     },
     "metadata": {},
     "output_type": "display_data"
    }
   ],
   "source": [
    "import scala.util.control.TailCalls._"
   ]
  },
  {
   "cell_type": "code",
   "execution_count": 10,
   "metadata": {
    "collapsed": false
   },
   "outputs": [
    {
     "data": {
      "text/plain": [
       "defined \u001b[32mfunction \u001b[36misEven\u001b[0m\n",
       "defined \u001b[32mfunction \u001b[36misOdd\u001b[0m"
      ]
     },
     "metadata": {},
     "output_type": "display_data"
    }
   ],
   "source": [
    "def isEven(xs: List[Int]): TailRec[Boolean] =\n",
    "  if (xs.isEmpty) done(true) else tailcall(isOdd(xs.tail))\n",
    "\n",
    "def isOdd(xs: List[Int]): TailRec[Boolean] =\n",
    " if (xs.isEmpty) done(false) else tailcall(isEven(xs.tail))"
   ]
  },
  {
   "cell_type": "markdown",
   "metadata": {},
   "source": [
    "上面的确定一个数是否是偶数的方法是使用isEven和isOdd相互引用，效率不高，其中代码对列表中元素进行来回调用，如果到列表结束时，处于isEven方法中就返回true，否则返回false。\n",
    "\n",
    "其中TailCalls包中，done方法返回递归调用的最后结果，而tailcall执行递归调用。"
   ]
  },
  {
   "cell_type": "code",
   "execution_count": 11,
   "metadata": {
    "collapsed": false
   },
   "outputs": [
    {
     "name": "stdout",
     "output_type": "stream",
     "text": [
      "1 is even? false\n",
      "2 is even? true\n",
      "3 is even? false\n",
      "4 is even? true\n",
      "5 is even? false\n"
     ]
    },
    {
     "data": {
      "text/plain": []
     },
     "metadata": {},
     "output_type": "display_data"
    }
   ],
   "source": [
    "for (i <- 1 to 5) {\n",
    "    val even = isEven((1 to i).toList).result\n",
    "    println(s\"$i is even? $even\")\n",
    "}"
   ]
  },
  {
   "cell_type": "markdown",
   "metadata": {},
   "source": [
    "## 4 偏应用函数与偏函数\n",
    "- **偏应用函数**是带部分而非全部参数列表的函数，其返回值是一个新的函数，新函数负责携带剩下的参数列表。\n",
    "- **偏函数**是单参数函数，并未对该类型的所有值都有定义。偏函数的字面量语法由包围在花括号的一个或多个case语句构成。"
   ]
  },
  {
   "cell_type": "code",
   "execution_count": 12,
   "metadata": {
    "collapsed": false
   },
   "outputs": [
    {
     "data": {
      "text/plain": [
       "defined \u001b[32mfunction \u001b[36mcat1\u001b[0m\n",
       "\u001b[36mhello\u001b[0m: \u001b[32mString\u001b[0m => \u001b[32mString\u001b[0m = <function1>\n",
       "\u001b[36mres11_2\u001b[0m: \u001b[32mString\u001b[0m = \u001b[32m\"Hello World!\"\u001b[0m"
      ]
     },
     "metadata": {},
     "output_type": "display_data"
    }
   ],
   "source": [
    "// 偏应用函数的例子\n",
    "def cat1(s1: String)(s2: String) = s1 + s2\n",
    "\n",
    "val hello = cat1(\"Hello \") _\n",
    "hello(\"World!\")"
   ]
  },
  {
   "cell_type": "code",
   "execution_count": 13,
   "metadata": {
    "collapsed": false
   },
   "outputs": [
    {
     "data": {
      "text/plain": [
       "\u001b[36mres12\u001b[0m: \u001b[32mString\u001b[0m = \u001b[32m\"Hello World!\"\u001b[0m"
      ]
     },
     "metadata": {},
     "output_type": "display_data"
    }
   ],
   "source": [
    "cat1(\"Hello \")(\"World!\")"
   ]
  },
  {
   "cell_type": "code",
   "execution_count": 14,
   "metadata": {
    "collapsed": false
   },
   "outputs": [
    {
     "data": {
      "text/plain": [
       "\u001b[36minverse\u001b[0m: \u001b[32mPartialFunction\u001b[0m[\u001b[32mDouble\u001b[0m, \u001b[32mDouble\u001b[0m] = <function1>"
      ]
     },
     "metadata": {},
     "output_type": "display_data"
    }
   ],
   "source": [
    "// 偏函数的例子\n",
    "val inverse: PartialFunction[Double, Double] = {\n",
    "    case d if d != 0.0 => 1.0 / d\n",
    "}"
   ]
  },
  {
   "cell_type": "code",
   "execution_count": 15,
   "metadata": {
    "collapsed": false
   },
   "outputs": [
    {
     "data": {
      "text/plain": [
       "\u001b[36mres14\u001b[0m: \u001b[32mDouble\u001b[0m = \u001b[32m1.0\u001b[0m"
      ]
     },
     "metadata": {},
     "output_type": "display_data"
    }
   ],
   "source": [
    "inverse(1.0)"
   ]
  },
  {
   "cell_type": "code",
   "execution_count": 16,
   "metadata": {
    "collapsed": false
   },
   "outputs": [
    {
     "data": {
      "text/plain": [
       "\u001b[36mres15\u001b[0m: \u001b[32mDouble\u001b[0m = \u001b[32m0.5\u001b[0m"
      ]
     },
     "metadata": {},
     "output_type": "display_data"
    }
   ],
   "source": [
    "inverse(2.0)"
   ]
  },
  {
   "cell_type": "code",
   "execution_count": 17,
   "metadata": {
    "collapsed": false
   },
   "outputs": [
    {
     "ename": "",
     "evalue": "",
     "output_type": "error",
     "traceback": [
      "scala.MatchError: 0.0 (of class java.lang.Double)",
      "\tscala.PartialFunction$$anon$1.apply(PartialFunction.scala:253)",
      "\tscala.PartialFunction$$anon$1.apply(PartialFunction.scala:251)",
      "\tcmd13$$user$$anonfun$1.applyOrElse(Main.scala:89)",
      "\tcmd13$$user$$anonfun$1.applyOrElse(Main.scala:89)",
      "\tscala.runtime.AbstractPartialFunction$mcDD$sp.apply$mcDD$sp(AbstractPartialFunction.scala:36)",
      "\tcmd16$$user$$anonfun$1.apply$mcD$sp(Main.scala:97)"
     ]
    }
   ],
   "source": [
    "inverse(0.0)"
   ]
  },
  {
   "cell_type": "markdown",
   "metadata": {},
   "source": [
    "### 偏函数与返回Option函数之间的转化\n",
    "如果我们有一个偏函数，同时又不希望发生抛出异常的情况，可以将偏函数提升为一个返回option的函数（使用lift进行转），同时也可以将返回Option的函数“降级”为偏函数。"
   ]
  },
  {
   "cell_type": "code",
   "execution_count": 18,
   "metadata": {
    "collapsed": false
   },
   "outputs": [
    {
     "data": {
      "text/plain": [
       "\u001b[36mfinicky\u001b[0m: \u001b[32mPartialFunction\u001b[0m[\u001b[32mString\u001b[0m, \u001b[32mString\u001b[0m] = <function1>"
      ]
     },
     "metadata": {},
     "output_type": "display_data"
    }
   ],
   "source": [
    "val finicky: PartialFunction[String, String] = {\n",
    "    case \"finicky\" => \"FINICKY\"\n",
    "}"
   ]
  },
  {
   "cell_type": "code",
   "execution_count": 19,
   "metadata": {
    "collapsed": false
   },
   "outputs": [
    {
     "data": {
      "text/plain": [
       "\u001b[36mres18\u001b[0m: \u001b[32mString\u001b[0m = \u001b[32m\"FINICKY\"\u001b[0m"
      ]
     },
     "metadata": {},
     "output_type": "display_data"
    }
   ],
   "source": [
    "finicky(\"finicky\")"
   ]
  },
  {
   "cell_type": "code",
   "execution_count": 20,
   "metadata": {
    "collapsed": false
   },
   "outputs": [
    {
     "ename": "",
     "evalue": "",
     "output_type": "error",
     "traceback": [
      "scala.MatchError: other (of class java.lang.String)",
      "\tscala.PartialFunction$$anon$1.apply(PartialFunction.scala:253)",
      "\tscala.PartialFunction$$anon$1.apply(PartialFunction.scala:251)",
      "\tcmd17$$user$$anonfun$1.applyOrElse(Main.scala:95)",
      "\tcmd17$$user$$anonfun$1.applyOrElse(Main.scala:95)",
      "\tscala.runtime.AbstractPartialFunction.apply(AbstractPartialFunction.scala:36)",
      "\tcmd19$$user$$anonfun$1.apply(Main.scala:101)",
      "\tcmd19$$user$$anonfun$1.apply(Main.scala:100)"
     ]
    }
   ],
   "source": [
    "finicky(\"other\")"
   ]
  },
  {
   "cell_type": "code",
   "execution_count": 21,
   "metadata": {
    "collapsed": false
   },
   "outputs": [
    {
     "data": {
      "text/plain": [
       "\u001b[36mfinickyOption\u001b[0m: \u001b[32mString\u001b[0m => \u001b[32mOption\u001b[0m[\u001b[32mString\u001b[0m] = <function1>"
      ]
     },
     "metadata": {},
     "output_type": "display_data"
    }
   ],
   "source": [
    "val finickyOption = finicky.lift "
   ]
  },
  {
   "cell_type": "code",
   "execution_count": 22,
   "metadata": {
    "collapsed": false
   },
   "outputs": [
    {
     "data": {
      "text/plain": [
       "\u001b[36mres21\u001b[0m: \u001b[32mOption\u001b[0m[\u001b[32mString\u001b[0m] = Some(FINICKY)"
      ]
     },
     "metadata": {},
     "output_type": "display_data"
    }
   ],
   "source": [
    "finickyOption(\"finicky\")"
   ]
  },
  {
   "cell_type": "code",
   "execution_count": 23,
   "metadata": {
    "collapsed": false
   },
   "outputs": [
    {
     "data": {
      "text/plain": [
       "\u001b[36mres22\u001b[0m: \u001b[32mOption\u001b[0m[\u001b[32mString\u001b[0m] = None"
      ]
     },
     "metadata": {},
     "output_type": "display_data"
    }
   ],
   "source": [
    "finickyOption(\"other\")"
   ]
  },
  {
   "cell_type": "code",
   "execution_count": 24,
   "metadata": {
    "collapsed": false
   },
   "outputs": [
    {
     "data": {
      "text/plain": [
       "\u001b[36mfinicky2\u001b[0m: \u001b[32mPartialFunction\u001b[0m[\u001b[32mString\u001b[0m, \u001b[32mString\u001b[0m] = <function1>"
      ]
     },
     "metadata": {},
     "output_type": "display_data"
    }
   ],
   "source": [
    "val finicky2 = Function.unlift(finickyOption )"
   ]
  },
  {
   "cell_type": "code",
   "execution_count": 25,
   "metadata": {
    "collapsed": false
   },
   "outputs": [
    {
     "ename": "",
     "evalue": "",
     "output_type": "error",
     "traceback": [
      "scala.MatchError: other (of class java.lang.String)",
      "\tscala.PartialFunction$$anon$1.apply(PartialFunction.scala:253)",
      "\tscala.PartialFunction$$anon$1.apply(PartialFunction.scala:251)",
      "\tcmd17$$user$$anonfun$1.applyOrElse(Main.scala:95)",
      "\tcmd17$$user$$anonfun$1.applyOrElse(Main.scala:95)",
      "\tscala.runtime.AbstractPartialFunction.apply(AbstractPartialFunction.scala:36)",
      "\tcmd24$$user$$anonfun$1.apply(Main.scala:109)",
      "\tcmd24$$user$$anonfun$1.apply(Main.scala:108)"
     ]
    }
   ],
   "source": [
    "finicky2(\"other\")"
   ]
  },
  {
   "cell_type": "markdown",
   "metadata": {},
   "source": [
    "## 5 Curry化\n",
    "Curry将一个带有多参数的函数转换为一系列函数，每个函数都只有一个参数。"
   ]
  },
  {
   "cell_type": "markdown",
   "metadata": {},
   "source": [
    "### 5.1 定义curry化函数"
   ]
  },
  {
   "cell_type": "code",
   "execution_count": 26,
   "metadata": {
    "collapsed": false
   },
   "outputs": [
    {
     "data": {
      "text/plain": [
       "defined \u001b[32mfunction \u001b[36mcat2\u001b[0m"
      ]
     },
     "metadata": {},
     "output_type": "display_data"
    }
   ],
   "source": [
    "// 定义curry化的函数\n",
    "def cat2(s1: String) = (s2: String) => s1 + s2"
   ]
  },
  {
   "cell_type": "code",
   "execution_count": 27,
   "metadata": {
    "collapsed": false
   },
   "outputs": [
    {
     "data": {
      "text/plain": [
       "\u001b[36mcat2hello\u001b[0m: \u001b[32mString\u001b[0m => \u001b[32mString\u001b[0m = <function1>"
      ]
     },
     "metadata": {},
     "output_type": "display_data"
    }
   ],
   "source": [
    "// 将curry化的函数作为偏应用函数时，不需要在后面加下划线\n",
    "val cat2hello = cat2(\"Hello \")"
   ]
  },
  {
   "cell_type": "code",
   "execution_count": 28,
   "metadata": {
    "collapsed": false
   },
   "outputs": [
    {
     "data": {
      "text/plain": [
       "\u001b[36mres27\u001b[0m: \u001b[32mString\u001b[0m = \u001b[32m\"Hello World!\"\u001b[0m"
      ]
     },
     "metadata": {},
     "output_type": "display_data"
    }
   ],
   "source": [
    "cat2hello(\"World!\")"
   ]
  },
  {
   "cell_type": "markdown",
   "metadata": {},
   "source": [
    "我们可以将一个带有多个参数的方法转化为curry化的形式"
   ]
  },
  {
   "cell_type": "code",
   "execution_count": 29,
   "metadata": {
    "collapsed": false
   },
   "outputs": [
    {
     "data": {
      "text/plain": [
       "defined \u001b[32mfunction \u001b[36mcat3\u001b[0m"
      ]
     },
     "metadata": {},
     "output_type": "display_data"
    }
   ],
   "source": [
    "def cat3(s1: String, s2: String) = s1 + s2"
   ]
  },
  {
   "cell_type": "code",
   "execution_count": 30,
   "metadata": {
    "collapsed": false
   },
   "outputs": [
    {
     "data": {
      "text/plain": [
       "\u001b[36mcat3Curried\u001b[0m: \u001b[32mString\u001b[0m => \u001b[32mString\u001b[0m => \u001b[32mString\u001b[0m = <function1>"
      ]
     },
     "metadata": {},
     "output_type": "display_data"
    }
   ],
   "source": [
    "val cat3Curried = (cat3 _).curried"
   ]
  },
  {
   "cell_type": "code",
   "execution_count": 31,
   "metadata": {
    "collapsed": false
   },
   "outputs": [
    {
     "data": {
      "text/plain": [
       "\u001b[36mres30\u001b[0m: \u001b[32mString\u001b[0m = \u001b[32m\"helloworld\"\u001b[0m"
      ]
     },
     "metadata": {},
     "output_type": "display_data"
    }
   ],
   "source": [
    "cat3Curried(\"hello\")(\"world\")"
   ]
  },
  {
   "cell_type": "markdown",
   "metadata": {},
   "source": [
    "下面我们用函数字面量来定义："
   ]
  },
  {
   "cell_type": "code",
   "execution_count": 32,
   "metadata": {
    "collapsed": false
   },
   "outputs": [
    {
     "data": {
      "text/plain": [
       "\u001b[36mf1\u001b[0m: \u001b[32mString\u001b[0m => \u001b[32mString\u001b[0m => \u001b[32mString\u001b[0m = <function1>"
      ]
     },
     "metadata": {},
     "output_type": "display_data"
    }
   ],
   "source": [
    "val f1: String => String => String = (s1: String) => (s2: String) => s1 + s2"
   ]
  },
  {
   "cell_type": "code",
   "execution_count": 33,
   "metadata": {
    "collapsed": false
   },
   "outputs": [
    {
     "data": {
      "text/plain": [
       "\u001b[36mf2\u001b[0m: \u001b[32mString\u001b[0m => \u001b[32mString\u001b[0m => \u001b[32mString\u001b[0m = <function1>"
      ]
     },
     "metadata": {},
     "output_type": "display_data"
    }
   ],
   "source": [
    "val f2: String => (String => String) = (s1: String) => (s2: String) => s1 + s2"
   ]
  },
  {
   "cell_type": "code",
   "execution_count": 34,
   "metadata": {
    "collapsed": false
   },
   "outputs": [
    {
     "data": {
      "text/plain": [
       "\u001b[36mres33\u001b[0m: \u001b[32mString\u001b[0m = \u001b[32m\"helloworld\"\u001b[0m"
      ]
     },
     "metadata": {},
     "output_type": "display_data"
    }
   ],
   "source": [
    "f1(\"hello\")(\"world\")"
   ]
  },
  {
   "cell_type": "code",
   "execution_count": 35,
   "metadata": {
    "collapsed": false
   },
   "outputs": [
    {
     "data": {
      "text/plain": [
       "\u001b[36mres34\u001b[0m: \u001b[32mString\u001b[0m = \u001b[32m\"helloworld\"\u001b[0m"
      ]
     },
     "metadata": {},
     "output_type": "display_data"
    }
   ],
   "source": [
    "f2(\"hello\")(\"world\")"
   ]
  },
  {
   "cell_type": "markdown",
   "metadata": {},
   "source": [
    "类型签名String => String => String和String => (String => String)是等价的。调用f1或f2时绑定第一个参数列表，将会返回一个类型为String => String的新函数。"
   ]
  },
  {
   "cell_type": "markdown",
   "metadata": {},
   "source": [
    "### 5.2 去curry化\n",
    "使用Function中的一个方法对函数去curry化"
   ]
  },
  {
   "cell_type": "code",
   "execution_count": 36,
   "metadata": {
    "collapsed": false
   },
   "outputs": [
    {
     "data": {
      "text/plain": [
       "\u001b[36mcat3Uncurried\u001b[0m: (\u001b[32mString\u001b[0m, \u001b[32mString\u001b[0m) => \u001b[32mString\u001b[0m = <function2>"
      ]
     },
     "metadata": {},
     "output_type": "display_data"
    }
   ],
   "source": [
    "val cat3Uncurried = Function.uncurried(cat3Curried)"
   ]
  },
  {
   "cell_type": "code",
   "execution_count": 37,
   "metadata": {
    "collapsed": false
   },
   "outputs": [
    {
     "data": {
      "text/plain": [
       "\u001b[36mres36\u001b[0m: \u001b[32mString\u001b[0m = \u001b[32m\"helloworld\"\u001b[0m"
      ]
     },
     "metadata": {},
     "output_type": "display_data"
    }
   ],
   "source": [
    "cat3Uncurried(\"hello\", \"world\")"
   ]
  },
  {
   "cell_type": "code",
   "execution_count": 38,
   "metadata": {
    "collapsed": false
   },
   "outputs": [
    {
     "data": {
      "text/plain": [
       "\u001b[36mff1\u001b[0m: (\u001b[32mString\u001b[0m, \u001b[32mString\u001b[0m) => \u001b[32mString\u001b[0m = <function2>"
      ]
     },
     "metadata": {},
     "output_type": "display_data"
    }
   ],
   "source": [
    "val ff1 = Function.uncurried(f1)"
   ]
  },
  {
   "cell_type": "code",
   "execution_count": 39,
   "metadata": {
    "collapsed": false
   },
   "outputs": [
    {
     "data": {
      "text/plain": [
       "\u001b[36mres38\u001b[0m: \u001b[32mString\u001b[0m = \u001b[32m\"helloworld\"\u001b[0m"
      ]
     },
     "metadata": {},
     "output_type": "display_data"
    }
   ],
   "source": [
    "ff1(\"hello\", \"world\")"
   ]
  },
  {
   "cell_type": "markdown",
   "metadata": {},
   "source": [
    "### 5.3 curry与偏应用函数\n",
    "curry的一个实际用处是对特定类型的数据函数做特殊化。函数可以接受通用的类型，而curry化的函数形式则只接受特定的类型。\n",
    "\n",
    "curry与偏应用函数式紧密相关的两个概念，这两个概念可以相互替换。"
   ]
  },
  {
   "cell_type": "markdown",
   "metadata": {},
   "source": [
    "### 5.4 元组形式参数的转换"
   ]
  },
  {
   "cell_type": "code",
   "execution_count": 40,
   "metadata": {
    "collapsed": false
   },
   "outputs": [
    {
     "data": {
      "text/plain": [
       "defined \u001b[32mfunction \u001b[36mmult\u001b[0m"
      ]
     },
     "metadata": {},
     "output_type": "display_data"
    }
   ],
   "source": [
    "def mult(d1: Double, d2: Double, d3: Double) = d1 * d2 * d3"
   ]
  },
  {
   "cell_type": "code",
   "execution_count": 41,
   "metadata": {
    "collapsed": false
   },
   "outputs": [
    {
     "data": {
      "text/plain": [
       "\u001b[36md3\u001b[0m: (\u001b[32mDouble\u001b[0m, \u001b[32mDouble\u001b[0m, \u001b[32mDouble\u001b[0m) = \u001b[33m\u001b[0m(\u001b[32m2.2\u001b[0m, \u001b[32m3.3\u001b[0m, \u001b[32m4.4\u001b[0m)"
      ]
     },
     "metadata": {},
     "output_type": "display_data"
    }
   ],
   "source": [
    "val d3 = (2.2, 3.3, 4.4)"
   ]
  },
  {
   "cell_type": "code",
   "execution_count": 42,
   "metadata": {
    "collapsed": false
   },
   "outputs": [
    {
     "data": {
      "text/plain": [
       "\u001b[36mres41\u001b[0m: \u001b[32mDouble\u001b[0m = \u001b[32m31.944000000000003\u001b[0m"
      ]
     },
     "metadata": {},
     "output_type": "display_data"
    }
   ],
   "source": [
    "mult(d3._1, d3._2, d3._3)"
   ]
  },
  {
   "cell_type": "markdown",
   "metadata": {},
   "source": [
    "如果可以将元组直接作为参数放入函数中就很相称且便利了，Function对象提供了元组形式和非元组形式的方法"
   ]
  },
  {
   "cell_type": "code",
   "execution_count": 43,
   "metadata": {
    "collapsed": false
   },
   "outputs": [
    {
     "data": {
      "text/plain": [
       "\u001b[36mmultTupled\u001b[0m: (\u001b[32mDouble\u001b[0m, \u001b[32mDouble\u001b[0m, \u001b[32mDouble\u001b[0m) => \u001b[32mDouble\u001b[0m = <function1>"
      ]
     },
     "metadata": {},
     "output_type": "display_data"
    }
   ],
   "source": [
    "val multTupled = Function.tupled(mult _)"
   ]
  },
  {
   "cell_type": "code",
   "execution_count": 44,
   "metadata": {
    "collapsed": false
   },
   "outputs": [
    {
     "data": {
      "text/plain": [
       "\u001b[36mres43\u001b[0m: \u001b[32mDouble\u001b[0m = \u001b[32m31.944000000000003\u001b[0m"
      ]
     },
     "metadata": {},
     "output_type": "display_data"
    }
   ],
   "source": [
    "multTupled(d3)"
   ]
  },
  {
   "cell_type": "code",
   "execution_count": 45,
   "metadata": {
    "collapsed": false
   },
   "outputs": [
    {
     "data": {
      "text/plain": [
       "\u001b[36mmultUntupled\u001b[0m: (\u001b[32mDouble\u001b[0m, \u001b[32mDouble\u001b[0m, \u001b[32mDouble\u001b[0m) => \u001b[32mDouble\u001b[0m = <function3>"
      ]
     },
     "metadata": {},
     "output_type": "display_data"
    }
   ],
   "source": [
    "val multUntupled = Function.untupled(multTupled )"
   ]
  },
  {
   "cell_type": "code",
   "execution_count": 46,
   "metadata": {
    "collapsed": false
   },
   "outputs": [
    {
     "data": {
      "text/plain": [
       "\u001b[36mres45\u001b[0m: \u001b[32mDouble\u001b[0m = \u001b[32m31.944000000000003\u001b[0m"
      ]
     },
     "metadata": {},
     "output_type": "display_data"
    }
   ],
   "source": [
    "multUntupled(d3._1, d3._2, d3._3)"
   ]
  }
 ],
 "metadata": {
  "kernelspec": {
   "display_name": "Scala 2.11",
   "language": "scala211",
   "name": "scala211"
  },
  "language_info": {
   "codemirror_mode": "text/x-scala",
   "file_extension": ".scala",
   "mimetype": "text/x-scala",
   "name": "scala211",
   "pygments_lexer": "scala",
   "version": "2.11.6"
  }
 },
 "nbformat": 4,
 "nbformat_minor": 0
}

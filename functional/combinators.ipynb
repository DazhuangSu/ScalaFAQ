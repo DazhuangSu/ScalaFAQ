{
 "cells": [
  {
   "cell_type": "markdown",
   "metadata": {},
   "source": [
    "## 软件复用组件\n",
    "成功的组件模型都依赖于非常简单的基础，这些基础使得组件能够创建、生成更加复杂的结构。\n",
    "\n",
    "面向对象编程从未建立过这种基础性、通用的标准，其中组件的基础单位是对象，但对象还不够底层。每个开发者都会为客户创造一个新的“标准”，没有任何团队能为客户应该有哪些字段达成一致，因为它们需要满足客户在不同场景下的不同需求，因而需要不同的数据和运算方式。\n",
    "\n",
    "在函数式编程语言的集合类型中，像List、VectorMap等，它们都共享一些共同的操作，这些操作大多定义在Seq这个抽象特征中。除了foreach操作外，所有操作都是纯净的高阶函数，没有副作用，且都接受函数作为参数，具体工作由该函数完成。这种高阶函数与离散数据中的组合器（combinator）概念非常接近。\n",
    "\n",
    "**我们可以将这些组合器串联起来，从而用很少的代码完成复杂的功能。对于特定问题，我们可以将数据和需要实现的行为分离。这与通常的面向对象编程的方法正好相反，面向对象总是将数据和行为绑定在一起。在自定义的类中创建所需逻辑的临时实现，是面向对象的典型做法**"
   ]
  },
  {
   "cell_type": "markdown",
   "metadata": {},
   "source": [
    "## 工资单计算器的例子"
   ]
  },
  {
   "cell_type": "code",
   "execution_count": 4,
   "metadata": {
    "collapsed": false
   },
   "outputs": [
    {
     "data": {
      "text/plain": [
       "defined \u001b[32mclass \u001b[36mEmployee\u001b[0m"
      ]
     },
     "metadata": {},
     "output_type": "display_data"
    }
   ],
   "source": [
    "case class Employee (\n",
    "    name: String,\n",
    "    title: String,\n",
    "    annualSalary: Double,\n",
    "    taxRate: Double,\n",
    "    insurancePremiumsPerWeek: Double)"
   ]
  },
  {
   "cell_type": "code",
   "execution_count": 5,
   "metadata": {
    "collapsed": false
   },
   "outputs": [
    {
     "data": {
      "text/plain": [
       "\u001b[36memployees\u001b[0m: \u001b[32mList\u001b[0m[\u001b[32mEmployee\u001b[0m] = \u001b[33mList\u001b[0m(\n",
       "  \u001b[33mEmployee\u001b[0m(\u001b[32m\"Buck Trends\"\u001b[0m, \u001b[32m\"CEO\"\u001b[0m, \u001b[32m200000.0\u001b[0m, \u001b[32m0.25\u001b[0m, \u001b[32m100.0\u001b[0m),\n",
       "  \u001b[33mEmployee\u001b[0m(\u001b[32m\"Cindy Banks\"\u001b[0m, \u001b[32m\"CFO\"\u001b[0m, \u001b[32m170000.0\u001b[0m, \u001b[32m0.22\u001b[0m, \u001b[32m120.0\u001b[0m),\n",
       "  \u001b[33mEmployee\u001b[0m(\n",
       "    \u001b[32m\"Joe Coder\"\u001b[0m,\n",
       "    \u001b[32m\"Developer\"\u001b[0m,\n",
       "    \u001b[32m130000.0\u001b[0m,\n",
       "    \u001b[32m0.2\u001b[0m,\n",
       "    \u001b[32m120.0\u001b[0m\n",
       "  )\n",
       ")"
      ]
     },
     "metadata": {},
     "output_type": "display_data"
    }
   ],
   "source": [
    "val employees = List(\n",
    "    Employee(\"Buck Trends\", \"CEO\", 200000, 0.25, 100.0),\n",
    "    Employee(\"Cindy Banks\", \"CFO\", 170000, 0.22, 120.0),\n",
    "    Employee(\"Joe Coder\", \"Developer\", 130000, 0.20, 120.0)\n",
    ")"
   ]
  },
  {
   "cell_type": "markdown",
   "metadata": {},
   "source": [
    "定义Employee类放置雇员的字段类型，实际应用中，这些数据可能从数据库中加载。Employee类型很简单，只需要定义少量行为，在经典的面向对象设计中，我们可能会给Employee添加很多行为，用于工资计算或实现其他域的逻辑。在这里所选择的设计提供了最佳的分离，同时这种设计非常简洁。如果Employee的结构发生变化，需要修改代码时，维护的成本非常小。"
   ]
  },
  {
   "cell_type": "code",
   "execution_count": 6,
   "metadata": {
    "collapsed": false
   },
   "outputs": [
    {
     "data": {
      "text/plain": [
       "\u001b[36mnetPay\u001b[0m: \u001b[32mList\u001b[0m[(\u001b[32mEmployee\u001b[0m, \u001b[32mDouble\u001b[0m)] = \u001b[33mList\u001b[0m(\n",
       "  \u001b[33m\u001b[0m(\n",
       "    \u001b[33mEmployee\u001b[0m(\n",
       "      \u001b[32m\"Buck Trends\"\u001b[0m,\n",
       "      \u001b[32m\"CEO\"\u001b[0m,\n",
       "      \u001b[32m200000.0\u001b[0m,\n",
       "      \u001b[32m0.25\u001b[0m,\n",
       "      \u001b[32m100.0\u001b[0m\n",
       "    ),\n",
       "    \u001b[32m2784.6153846153848\u001b[0m\n",
       "  ),\n",
       "  \u001b[33m\u001b[0m(\n",
       "    \u001b[33mEmployee\u001b[0m(\n",
       "      \u001b[32m\"Cindy Banks\"\u001b[0m,\n",
       "      \u001b[32m\"CFO\"\u001b[0m,\n",
       "\u001b[33m...\u001b[0m"
      ]
     },
     "metadata": {},
     "output_type": "display_data"
    }
   ],
   "source": [
    "// 计算每周工资单\n",
    "val netPay = employees map { e =>\n",
    "    val net = (1.0-e.taxRate) * (e.annualSalary / 52.0) -\n",
    "        e.insurancePremiumsPerWeek \n",
    "    (e, net)\n",
    "}"
   ]
  },
  {
   "cell_type": "code",
   "execution_count": 8,
   "metadata": {
    "collapsed": false
   },
   "outputs": [
    {
     "name": "stdout",
     "output_type": "stream",
     "text": [
      "** Paychecks:\n",
      "  Buck Trends:        2784.62\n",
      "  Cindy Banks:        2430.00\n",
      "  Joe Coder:          1880.00\n"
     ]
    },
    {
     "data": {
      "text/plain": []
     },
     "metadata": {},
     "output_type": "display_data"
    }
   ],
   "source": [
    "// 打印工资单\n",
    "println(\"** Paychecks:\")\n",
    "netPay foreach {\n",
    "    case (e, net) => println(f\"  ${e.name+':'}%-16s ${net}%10.2f\")\n",
    "}"
   ]
  },
  {
   "cell_type": "code",
   "execution_count": 9,
   "metadata": {
    "collapsed": false
   },
   "outputs": [
    {
     "data": {
      "text/plain": [
       "\u001b[36mreport\u001b[0m: (\u001b[32mDouble\u001b[0m, \u001b[32mDouble\u001b[0m, \u001b[32mDouble\u001b[0m) = \u001b[33m\u001b[0m(\u001b[32m9615.384615384615\u001b[0m, \u001b[32m7094.615384615385\u001b[0m, \u001b[32m340.0\u001b[0m)"
      ]
     },
     "metadata": {},
     "output_type": "display_data"
    }
   ],
   "source": [
    "// 生成报表\n",
    "val report = (netPay foldLeft (0.0, 0.0, 0.0)) {\n",
    "    case ((totalSalary, totalNet, totalInsurance), (e, net)) =>\n",
    "        (totalSalary + e.annualSalary / 52.0,\n",
    "            totalNet + net,\n",
    "            totalInsurance + e.insurancePremiumsPerWeek)\n",
    "}"
   ]
  },
  {
   "cell_type": "code",
   "execution_count": 10,
   "metadata": {
    "collapsed": false
   },
   "outputs": [
    {
     "name": "stdout",
     "output_type": "stream",
     "text": [
      "\n",
      "** Report:\n",
      "  Total Salary:       9615.38\n",
      "  Total Net:          7094.62\n",
      "  Total Insurance:     340.00\n"
     ]
    },
    {
     "data": {
      "text/plain": []
     },
     "metadata": {},
     "output_type": "display_data"
    }
   ],
   "source": [
    "println(\"\\n** Report:\")\n",
    "println(f\"  Total Salary:    ${report._1}%10.2f\")\n",
    "println(f\"  Total Net:       ${report._2}%10.2f\")\n",
    "println(f\"  Total Insurance: ${report._3}%10.2f\")"
   ]
  }
 ],
 "metadata": {
  "kernelspec": {
   "display_name": "Scala 2.11",
   "language": "scala211",
   "name": "scala211"
  },
  "language_info": {
   "codemirror_mode": "text/x-scala",
   "file_extension": ".scala",
   "mimetype": "text/x-scala",
   "name": "scala211",
   "pygments_lexer": "scala",
   "version": "2.11.6"
  }
 },
 "nbformat": 4,
 "nbformat_minor": 0
}

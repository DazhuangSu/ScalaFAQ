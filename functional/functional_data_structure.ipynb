{
 "cells": [
  {
   "cell_type": "markdown",
   "metadata": {},
   "source": [
    "## 函数式编程中的数据结构\n",
    "在函数式编程中，往往大量使用一些核心的数据结构和算法。相比于面向对象编程利用代码复用来减少冗余，函数式编程更倾向于编写简洁易复用的代码，因为语言将重点放在使用核心数据结构和算法实现业务逻辑上。\n",
    "\n",
    "函数式语言中每种集合类型都支持同一批无副作用的高阶函数，称为组合器（combinator），如map、filter、fold等。"
   ]
  },
  {
   "cell_type": "code",
   "execution_count": null,
   "metadata": {
    "collapsed": true
   },
   "outputs": [],
   "source": []
  }
 ],
 "metadata": {
  "kernelspec": {
   "display_name": "Scala 2.11",
   "language": "scala211",
   "name": "scala211"
  },
  "language_info": {
   "codemirror_mode": "text/x-scala",
   "file_extension": ".scala",
   "mimetype": "text/x-scala",
   "name": "scala211",
   "pygments_lexer": "scala",
   "version": "2.11.6"
  }
 },
 "nbformat": 4,
 "nbformat_minor": 0
}
